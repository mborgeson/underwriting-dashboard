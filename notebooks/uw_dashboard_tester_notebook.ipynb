{
 "cells": [
  {
   "cell_type": "markdown",
   "id": "4199c0dd",
   "metadata": {},
   "source": [
    "# UNDERWRITING DASHBOARD PROJECT"
   ]
  },
  {
   "cell_type": "markdown",
   "id": "4888cd0a",
   "metadata": {},
   "source": [
    "## A). PACKAGE IMPORT AND ENVIRONMENT SETUP"
   ]
  },
  {
   "cell_type": "code",
   "execution_count": null,
   "id": "032750d4",
   "metadata": {},
   "outputs": [],
   "source": [
    "# Import required libraries\n",
    "import os\n",
    "import sys\n",
    "import pandas as pd\n",
    "import numpy as np\n",
    "import sqlite3\n",
    "from pathlib import Path\n",
    "from datetime import datetime\n",
    "import importlib\n",
    "import subprocess\n",
    "import time\n",
    "\n",
    "# Setup project paths\n",
    "PROJECT_ROOT = Path(\"C:/Users/MattBorgeson/OneDrive - B&R Capital/Programming Projects/Underwriting Dashboard\")\n",
    "sys.path.append(str(PROJECT_ROOT))\n",
    "\n",
    "print(f\"Project root directory: {PROJECT_ROOT}\")\n",
    "print(f\"Current working directory: {os.getcwd()}\")\n",
    "\n",
    "# Utility function to reload modules\n",
    "def reload_project_modules():\n",
    "    \"\"\"Reload project modules to ensure latest code changes are used.\"\"\"\n",
    "    modules_to_reload = [\n",
    "        \"src.data_processing.file_finder\",\n",
    "        \"src.data_processing.excel_reader\",\n",
    "        \"src.database.db_manager\",\n",
    "        \"src.file_monitoring.monitor\",\n",
    "        \"src.dashboard.app\",\n",
    "        \"src.dashboard.components.filters\",\n",
    "        \"src.dashboard.components.tables\",\n",
    "        \"src.dashboard.components.maps\",\n",
    "        \"src.dashboard.components.analytics\",\n",
    "        \"src.dashboard.utils.responsive\"\n",
    "    ]\n",
    "    \n",
    "    for module_name in modules_to_reload:\n",
    "        try:\n",
    "            if module_name in sys.modules:\n",
    "                importlib.reload(sys.modules[module_name])\n",
    "                print(f\"✓8 Reloaded module: {module_name}\")\n",
    "        except Exception as e:\n",
    "            print(f\"✗ Failed to reload module {module_name}: {str(e)}\")\n",
    "\n",
    "# Run this to reload all project modules if you've made changes\n",
    "reload_project_modules()"
   ]
  },
  {
   "cell_type": "markdown",
   "id": "1b309910",
   "metadata": {},
   "source": [
    "## B). COMPONENT TESTING MODULES"
   ]
  },
  {
   "cell_type": "markdown",
   "id": "c69726c3",
   "metadata": {},
   "source": [
    "### B.1). COMPONENT MODULE TEST -- FILE FINDER MODULE"
   ]
  },
  {
   "cell_type": "code",
   "execution_count": null,
   "id": "c9d8a0fa",
   "metadata": {},
   "outputs": [],
   "source": [
    "# Test File Finder Module\n",
    "from src.data_processing.file_finder import find_underwriting_files\n",
    "\n",
    "print(\"Running file finder to locate Excel underwriting models...\")\n",
    "\n",
    "# Find Excel files\n",
    "include_files, exclude_files = find_underwriting_files()\n",
    "\n",
    "print(f\"Found {len(include_files)} files to include in analysis\")\n",
    "print(f\"Found {len(exclude_files)} files to exclude from analysis\")\n",
    "\n",
    "# Display the first few included files\n",
    "if include_files:\n",
    "    print(\"\\nFirst 5 included files:\")\n",
    "    for i, file_info in enumerate(include_files[:5]):\n",
    "        print(f\"{i+1}. {file_info['File Name']} - {file_info['Deal Stage Subdirectory Name']}\")"
   ]
  },
  {
   "cell_type": "markdown",
   "id": "b565b802",
   "metadata": {},
   "source": [
    "### B.2). COMPONENT TEST -- EXCEL READER WITH ONE FILE"
   ]
  },
  {
   "cell_type": "code",
   "execution_count": null,
   "id": "050d8853",
   "metadata": {},
   "outputs": [],
   "source": [
    "# Test Excel Reader Module\n",
    "from src.data_processing.excel_reader import process_excel_files\n",
    "\n",
    "print(\"Testing Excel reader with the first file...\")\n",
    "\n",
    "# Process just the first file for testing\n",
    "if include_files:\n",
    "    test_file = [include_files[0]]\n",
    "    print(f\"Processing file: {test_file[0]['File Name']}\")\n",
    "    \n",
    "    result_df = process_excel_files(test_file)\n",
    "    \n",
    "    if not result_df.empty:\n",
    "        print(f\"Successfully extracted {len(result_df.columns)} columns of data\")\n",
    "        \n",
    "        # Display the first few columns\n",
    "        print(\"\\nFirst 10 columns:\")\n",
    "        print(list(result_df.columns)[:10])\n",
    "        \n",
    "        # Display a preview of the data\n",
    "        print(\"\\nData preview:\")\n",
    "        display(result_df.head(1))\n",
    "    else:\n",
    "        print(\"No data extracted from file\")\n",
    "else:\n",
    "    print(\"No files found to process\")"
   ]
  },
  {
   "cell_type": "markdown",
   "id": "a876c00f",
   "metadata": {},
   "source": [
    "### B.3). COMPONENT TEST -- DATABASE OPERATIONS"
   ]
  },
  {
   "cell_type": "code",
   "execution_count": null,
   "id": "57a65c8f",
   "metadata": {},
   "outputs": [],
   "source": [
    "# Test Database Manager\n",
    "from src.database.db_manager import setup_database, store_data, get_all_data\n",
    "\n",
    "print(\"Testing database operations...\")\n",
    "\n",
    "# Setup the database\n",
    "print(\"Setting up database...\")\n",
    "setup_database()\n",
    "\n",
    "# Store data from the first file\n",
    "if include_files and not result_df.empty:\n",
    "    print(f\"Storing data from {include_files[0]['File Name']} in database...\")\n",
    "    store_data(result_df)\n",
    "    \n",
    "    # Retrieve all data from database\n",
    "    print(\"Retrieving all data from database...\")\n",
    "    all_data = get_all_data()\n",
    "    \n",
    "    print(f\"Retrieved {len(all_data)} rows and {len(all_data.columns)} columns from database\")\n",
    "    \n",
    "    # Display a few column names\n",
    "    print(\"\\nSample columns from database:\")\n",
    "    sample_cols = list(all_data.columns)[:10]\n",
    "    for col in sample_cols:\n",
    "        print(f\"- {col}\")\n",
    "else:\n",
    "    print(\"No data to store in database\")"
   ]
  },
  {
   "cell_type": "markdown",
   "id": "9ebf41a5",
   "metadata": {},
   "source": [
    "### B.4). COMPONENT TEST -- FILE MONITORING UTILITIES"
   ]
  },
  {
   "cell_type": "code",
   "execution_count": null,
   "id": "b8fe84d5",
   "metadata": {},
   "outputs": [],
   "source": [
    "# Test File Monitoring (non-blocking)\n",
    "from src.file_monitoring.monitor import find_uw_model_folder\n",
    "\n",
    "print(\"Testing file monitoring utilities...\")\n",
    "\n",
    "# Test finding UW Model folders\n",
    "if include_files:\n",
    "    deal_folder = Path(include_files[0][\"Absolute File Path\"]).parent.parent\n",
    "    print(f\"Looking for UW Model folder in: {deal_folder}\")\n",
    "    \n",
    "    uw_folder = find_uw_model_folder(deal_folder)\n",
    "    \n",
    "    if uw_folder:\n",
    "        print(f\"Found UW Model folder: {uw_folder}\")\n",
    "        \n",
    "        # List files in the UW Model folder\n",
    "        print(\"\\nFiles in UW Model folder:\")\n",
    "        for i, file in enumerate(uw_folder.glob(\"*.*\")):\n",
    "            print(f\"{i+1}. {file.name} ({file.stat().st_size:,} bytes)\")\n",
    "    else:\n",
    "        print(\"UW Model folder not found\")"
   ]
  },
  {
   "cell_type": "markdown",
   "id": "7e7f03bb",
   "metadata": {},
   "source": [
    "### B.5). COMPONENT TEST -- LAUNCHING DASHBOARD"
   ]
  },
  {
   "cell_type": "code",
   "execution_count": null,
   "id": "d052776b",
   "metadata": {},
   "outputs": [],
   "source": [
    "# Run Dashboard in a separate process\n",
    "def launch_dashboard():\n",
    "    \"\"\"Launch the Streamlit dashboard in a separate process.\"\"\"\n",
    "    dashboard_path = os.path.join(PROJECT_ROOT, \"src\", \"dashboard\", \"app.py\")\n",
    "    \n",
    "    print(f\"Launching dashboard: {dashboard_path}\")\n",
    "    print(\"Dashboard will be available at: http://localhost:8501\")\n",
    "    print(\"Run this in a command prompt to start the dashboard:\")\n",
    "    print(f\"streamlit run {dashboard_path}\")\n",
    "    \n",
    "    # Uncomment to actually launch the dashboard (will block the notebook)\n",
    "    subprocess.Popen([\"streamlit\", \"run\", dashboard_path])\n",
    "    \n",
    "    print(\"\\nNote: For testing the dashboard, it's usually better to run it from a command prompt\")\n",
    "    print(\"This allows you to continue working in the notebook while the dashboard is running\")\n",
    "\n",
    "# Only run this cell if you want to launch the dashboard\n",
    "launch_dashboard()"
   ]
  },
  {
   "cell_type": "markdown",
   "id": "8edbe1ff",
   "metadata": {},
   "source": [
    "### B.6). COMPONENT TEST -- DATABASE SCHEMA AND CONTENTS"
   ]
  },
  {
   "cell_type": "code",
   "execution_count": null,
   "id": "86c419a3",
   "metadata": {},
   "outputs": [],
   "source": [
    "# Explore Database Schema and Content\n",
    "print(\"Exploring database schema and content...\")\n",
    "\n",
    "try:\n",
    "    # Connect to the database\n",
    "    db_path = os.path.join(PROJECT_ROOT, \"database\", \"underwriting_models.db\")\n",
    "    conn = sqlite3.connect(db_path)\n",
    "    \n",
    "    # Get table names\n",
    "    cursor = conn.cursor()\n",
    "    cursor.execute(\"SELECT name FROM sqlite_master WHERE type='table';\")\n",
    "    tables = cursor.fetchall()\n",
    "    \n",
    "    print(f\"Database tables: {[table[0] for table in tables]}\")\n",
    "    \n",
    "    # Get column info for the main table\n",
    "    if tables:\n",
    "        main_table = tables[0][0]\n",
    "        cursor.execute(f\"PRAGMA table_info({main_table})\")\n",
    "        columns = cursor.fetchall()\n",
    "        \n",
    "        print(f\"\\nColumns in {main_table} table:\")\n",
    "        for i, col in enumerate(columns[:20]):  # Show first 20 columns\n",
    "            print(f\"{i+1}. {col[1]} ({col[2]})\")\n",
    "        \n",
    "        if len(columns) > 20:\n",
    "            print(f\"...and {len(columns) - 20} more columns\")\n",
    "        \n",
    "        # Count rows\n",
    "        cursor.execute(f\"SELECT COUNT(*) FROM {main_table}\")\n",
    "        row_count = cursor.fetchone()[0]\n",
    "        print(f\"\\nTotal rows in {main_table}: {row_count}\")\n",
    "    \n",
    "    conn.close()\n",
    "        \n",
    "except Exception as e:\n",
    "    print(f\"Error exploring database: {str(e)}\")"
   ]
  },
  {
   "cell_type": "markdown",
   "id": "6132f173",
   "metadata": {},
   "source": [
    "### B.7). COMPONENT TEST -- ANALYTICS COMPONENTS"
   ]
  },
  {
   "cell_type": "code",
   "execution_count": null,
   "id": "dbdf2756",
   "metadata": {},
   "outputs": [],
   "source": [
    "# Test Analytics Components\n",
    "# This will test the analytics components without running the full dashboard\n",
    "\n",
    "# Import the analytics components\n",
    "import importlib.util\n",
    "import sys\n",
    "\n",
    "print(\"Testing analytics components...\")\n",
    "\n",
    "try:\n",
    "    # Check if the analytics file exists and load it\n",
    "    analytics_path = os.path.join(PROJECT_ROOT, \"src\", \"dashboard\", \"components\", \"analytics.py\")\n",
    "    \n",
    "    if os.path.exists(analytics_path):\n",
    "        print(f\"Analytics file found: {analytics_path}\")\n",
    "        \n",
    "        # Get data for testing\n",
    "        test_data = get_all_data() if 'get_all_data' in locals() else None\n",
    "        \n",
    "        if test_data is not None and not test_data.empty:\n",
    "            print(f\"Data available for analytics: {len(test_data)} rows\")\n",
    "            \n",
    "            # Display data columns available for analytics\n",
    "            print(\"\\nColumns available for analytics:\")\n",
    "            for col_type, keywords in {\n",
    "                \"Geographic\": [\"city\", \"state\", \"lat\", \"lon\", \"location\"],\n",
    "                \"Performance\": [\"cap\", \"rate\", \"irr\", \"price\", \"value\"],\n",
    "                \"Property\": [\"unit\", \"property\", \"building\", \"deal\"],\n",
    "                \"Dates\": [\"date\", \"time\"]\n",
    "            }.items():\n",
    "                matching_cols = [col for col in test_data.columns if any(kw in str(col).lower() for kw in keywords)]\n",
    "                if matching_cols:\n",
    "                    print(f\"\\n{col_type} columns:\")\n",
    "                    for col in matching_cols[:5]:  # Show first 5 of each type\n",
    "                        print(f\"- {col}\")\n",
    "                    if len(matching_cols) > 5:\n",
    "                        print(f\"...and {len(matching_cols) - 5} more\")\n",
    "            \n",
    "            print(\"\\nNote: To fully test the analytics components, run the dashboard with:\")\n",
    "            print(f\"streamlit run {os.path.join(PROJECT_ROOT, 'src', 'dashboard', 'app.py')}\")\n",
    "        else:\n",
    "            print(\"No data available for testing analytics components\")\n",
    "            print(\"Run the Excel reader and database steps first to load data\")\n",
    "    else:\n",
    "        print(f\"Analytics file not found at: {analytics_path}\")\n",
    "        print(\"Create the analytics.py file with the geographic analysis functions first\")\n",
    "        \n",
    "except Exception as e:\n",
    "    print(f\"Error testing analytics components: {str(e)}\")\n",
    "    import traceback\n",
    "    traceback.print_exc()"
   ]
  }
 ],
 "metadata": {
  "kernelspec": {
   "display_name": "underwriting_dashboard",
   "language": "python",
   "name": "python3"
  },
  "language_info": {
   "codemirror_mode": {
    "name": "ipython",
    "version": 3
   },
   "file_extension": ".py",
   "mimetype": "text/x-python",
   "name": "python",
   "nbconvert_exporter": "python",
   "pygments_lexer": "ipython3",
   "version": "3.11.12"
  }
 },
 "nbformat": 4,
 "nbformat_minor": 5
}
